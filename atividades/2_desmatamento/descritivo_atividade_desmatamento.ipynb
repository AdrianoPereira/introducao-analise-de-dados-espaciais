{
 "cells": [
  {
   "cell_type": "markdown",
   "metadata": {},
   "source": [
    "<!--<link rel=\"stylesheet\" type=\"text/css\" href=\"style/style.css\"> -->\n",
    "\n",
    "<img src=\"res/minicurso_fatec.png\" alt=\"logo\">\n",
    "\n",
    "<hr style=\"border: 3px solid #b5b0b0;\">"
   ]
  },
  {
   "cell_type": "markdown",
   "metadata": {},
   "source": [
    "Este material foi criado para auxiliar os alunos dos minicurso de Introdução à análise de dados espaciais a aplicar os principais conceitos vistos durante o minicurso."
   ]
  },
  {
   "cell_type": "markdown",
   "metadata": {},
   "source": [
    "## Monitoramento do desmatamento na Amazônia\n",
    "\n",
    "![](res/deterblogo.jpg)\n",
    "\n",
    "Os problemas gerados pelo desmatamento são diversos, o impacto na área ambiente e social fica evidente quando se percebe que as florestas estão perdendo sua biodiversidade e há o aumento das emissões de gases de efeito estufa. Assim, criar formas para o controle e o monitoramento do desmatamento é uma necessidade de toda a sociedade, principalmente em nosso país, que possui um vasto território, com muita vida e biodiversidade.\n",
    "\n",
    "Por conta da vasta extensão das áreas que precisam ser monitoradas em nosso país, há um enorme desafio em realizar a monitoração em um tempo hábil, sem enumerar as diversas necessidades técnicas que precisam ser supridas para que o sistema tenha precisão e gere confiança em seus resultados. Neste contexto, o [Instituto Nacional de Pesquisas Espaciais](http://www.inpe.br/) (INPE) criou o projeto Deter, que busca criar alertas diários das extensões identificadas como áreas de desmatamento."
   ]
  },
  {
   "cell_type": "markdown",
   "metadata": {},
   "source": [
    "## Atividades propostas\n",
    "\n",
    "Dentro deste contexto, utilizando os dados disponibilizados pelo INPE são propostas as seguintes perguntas a serem respondidas através da análise de tais dados.\n",
    "\n",
    "- 1° - Há alguma relação aparente entre os avisos de desmatamento e os focos de queimadas ?\n",
    "- 2° - Qual é a área desmatada em cada mês (Janeiro à Outubro 2019);\n",
    "- 3° - Em quais estados há maior quantidade de registros de avisos de desmatamento ?\n",
    "- 4° - Contabilize a área total de dos avisos (Janeiro à Outubro 2019);\n",
    "- 5° - Existem áreas de preservação com alertas de desmatamento ?\n",
    "\n",
    "Estas são apenas ideias base para você iniciar a análise de seus dados, pode ser que, durante suas análises você pense em  outros pontos que podem ser explorados, o que é muito bom!"
   ]
  },
  {
   "cell_type": "markdown",
   "metadata": {},
   "source": [
    "## Sobre os dados\n",
    "\n",
    "Os dados disponibilizados para a realização desta atividade podem ser encontrados no diretório `dados`, junto a esta atividade, há também alguns auxiliares que podem ser consumidos para responder as questões acima. \n",
    "\n",
    "Todos os dados disponibilizados aqui foram retirados diretamente do portal [TerraBrasilis](http://terrabrasilis.dpi.inpe.br/) do INPE, que tem por objetivo a disponibilização facilitada dos variados produtos gerados pelo instituto.\n",
    "\n",
    "Links extras:\n",
    "\n",
    "- [Mapa de alertas - TerraBrasilis](http://terrabrasilis.dpi.inpe.br/app/map/alerts?hl=pt-br)\n",
    "- [Metadados - Descrição dos dados do Deter](http://terrabrasilis.dpi.inpe.br/geonetwork/srv/eng/catalog.search#/metadata/f2153c4a-915b-48a6-8658-963bdce7366c)\n"
   ]
  }
 ],
 "metadata": {
  "kernelspec": {
   "display_name": "Python 3",
   "language": "python",
   "name": "python3"
  },
  "language_info": {
   "codemirror_mode": {
    "name": "ipython",
    "version": 3
   },
   "file_extension": ".py",
   "mimetype": "text/x-python",
   "name": "python",
   "nbconvert_exporter": "python",
   "pygments_lexer": "ipython3",
   "version": "3.7.3"
  }
 },
 "nbformat": 4,
 "nbformat_minor": 2
}
